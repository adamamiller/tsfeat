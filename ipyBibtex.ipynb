{
 "metadata": {
  "name": ""
 },
 "nbformat": 3,
 "nbformat_minor": 0,
 "worksheets": [
  {
   "cells": [
    {
     "cell_type": "markdown",
     "metadata": {},
     "source": [
      "#$\\LaTeX$ in IPython Notebook\n",
      "\n",
      "With this extension you can use $\\LaTeX$ style references within IPython (Notebook)  while still using markdown for formatting.\n",
      "\n",
      "Required:\n",
      "\n",
      "* ipython-dev\n",
      "* biblio-py\n",
      "* markdown\n",
      "\n",
      "First, you need to load the extension. Use `%load_ext` (or better `%reload_ext`):"
     ]
    },
    {
     "cell_type": "code",
     "collapsed": false,
     "input": [
      "%reload_ext ipyBibtex       "
     ],
     "language": "python",
     "metadata": {},
     "outputs": [],
     "prompt_number": 1
    },
    {
     "cell_type": "markdown",
     "metadata": {},
     "source": [
      "You can specify the max number of co-authors in the output before substituting with 'et. al.,' using `%etal`. The default value upon loading the extension is 3, i.e. articles with 4+ authors will have 'et. al.'\n",
      "\n",
      "This needs to be done __before__ `%bibFile`"
     ]
    },
    {
     "cell_type": "code",
     "collapsed": false,
     "input": [
      "%etal 3 "
     ],
     "language": "python",
     "metadata": {},
     "outputs": [],
     "prompt_number": 2
    },
    {
     "cell_type": "markdown",
     "metadata": {},
     "source": [
      "Next you need to specify a bibliography file you want to use. There are two line magics available for this.\n",
      "\n",
      "* `%bibFile` will open the file and prepare the required dictionaries\n",
      "* `%bibFileRobust` will do the same and print all keys that were found"
     ]
    },
    {
     "cell_type": "code",
     "collapsed": false,
     "input": [
      "%bibFile path/to/file.bib"
     ],
     "language": "python",
     "metadata": {},
     "outputs": [],
     "prompt_number": 3
    },
    {
     "cell_type": "markdown",
     "metadata": {},
     "source": [
      "Finally you can write your text with in a _code_ cell with `%%cite` cell magic."
     ]
    },
    {
     "cell_type": "code",
     "collapsed": false,
     "input": [
      "%%cite\n",
      "Lorem ipsum dolor sit amet __\\citep{hansen1982,gallanttauchen1996,crealkoopmanlucas2013}__, consectetuer adipiscing elit, sed diam nonummy nibh euismod tincidunt ut laoreet dolore magna aliquam erat volutpat.\n",
      "Ut wisi enim ad minim veniam, quis nostrud exerci tation ullamcorper suscipit lobortis nisl ut aliquip ex ea commodo consequat.\n",
      "Duis autem vel eum iriure dolor in hendrerit in vulputate velit esse molestie consequat, vel illum dolore eu feugiat nulla facilisis at vero eros et accumsan et iusto odio dignissim qui blandit praesent luptatum zzril delenit augue duis dolore te feugait nulla facilisi.\n",
      "Nam liber tempor cum soluta nobis eleifend option congue nihil imperdiet doming id quod mazim placerat facer possim assum.\n",
      "\n",
      "Typi non habent claritatem insitam; est usus legentis in iis qui facit eorum claritatem.\n",
      "Investigationes demonstraverunt lectores legere me lius quod ii legunt saepius, __\\cite{hayashi2000,engle1982}__.\n",
      "Claritas est etiam processus dynamicus, qui sequitur mutationem consuetudium lectorum.\n",
      "Mirum est notare quam littera gothica, quam nunc putamus parum claram, anteposuerit litterarum formas humanitatis per seacula quarta decima et quinta decima.\n",
      "Eodem modo typi, qui nunc nobis videntur parum clari, fiant sollemnes in futurum."
     ],
     "language": "python",
     "metadata": {},
     "outputs": [
      {
       "html": [
        "<p>Lorem ipsum dolor sit amet <strong>(Hansen, 1982; Gallant and Tauchen, 1996; Creal, Koopman and Lucas, 2013)</strong>, consectetuer adipiscing elit, sed diam nonummy nibh euismod tincidunt ut laoreet dolore magna aliquam erat volutpat.\n",
        "Ut wisi enim ad minim veniam, quis nostrud exerci tation ullamcorper suscipit lobortis nisl ut aliquip ex ea commodo consequat.\n",
        "Duis autem vel eum iriure dolor in hendrerit in vulputate velit esse molestie consequat, vel illum dolore eu feugiat nulla facilisis at vero eros et accumsan et iusto odio dignissim qui blandit praesent luptatum zzril delenit augue duis dolore te feugait nulla facilisi.\n",
        "Nam liber tempor cum soluta nobis eleifend option congue nihil imperdiet doming id quod mazim placerat facer possim assum.</p>\n",
        "<p>Typi non habent claritatem insitam; est usus legentis in iis qui facit eorum claritatem.\n",
        "Investigationes demonstraverunt lectores legere me lius quod ii legunt saepius, <strong>Hayashi (2000); Engle (1982)</strong>.\n",
        "Claritas est etiam processus dynamicus, qui sequitur mutationem consuetudium lectorum.\n",
        "Mirum est notare quam littera gothica, quam nunc putamus parum claram, anteposuerit litterarum formas humanitatis per seacula quarta decima et quinta decima.\n",
        "Eodem modo typi, qui nunc nobis videntur parum clari, fiant sollemnes in futurum.</p>"
       ],
       "metadata": {},
       "output_type": "display_data",
       "text": [
        "Lorem ipsum dolor sit amet __(Hansen, 1982; Gallant and Tauchen, 1996; Creal, Koopman and Lucas, 2013)__, consectetuer adipiscing elit, sed diam nonummy nibh euismod tincidunt ut laoreet dolore magna aliquam erat volutpat. Ut wisi enim ad minim veniam, quis nostrud exerci tation ullamcorper suscipit lobortis nisl ut aliquip ex ea commodo consequat. Duis autem vel eum iriure dolor in hendrerit in vulputate velit esse molestie consequat, vel illum dolore eu feugiat nulla facilisis at vero eros et accumsan et iusto odio dignissim qui blandit praesent luptatum zzril delenit augue duis dolore te feugait nulla facilisi. Nam liber tempor cum soluta nobis eleifend option congue nihil imperdiet doming id quod mazim placerat facer possim assum.\n",
        "\n",
        "Typi non habent claritatem insitam; est usus legentis in iis qui facit eorum claritatem. Investigationes demonstraverunt lectores legere me lius quod ii legunt saepius, __Hayashi (2000); Engle (1982)__. Claritas est etiam processus dynamicus, qui sequitur mutationem consuetudium lectorum. Mirum est notare quam littera gothica, quam nunc putamus parum claram, anteposuerit litterarum formas humanitatis per seacula quarta decima et quinta decima. Eodem modo typi, qui nunc nobis videntur parum clari, fiant sollemnes in futurum."
       ]
      }
     ],
     "prompt_number": 4
    }
   ],
   "metadata": {}
  }
 ]
}
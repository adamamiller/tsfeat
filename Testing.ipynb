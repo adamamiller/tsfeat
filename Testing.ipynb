{
 "metadata": {
  "name": "",
  "signature": "sha256:8d18c51d331441210c993f802b2ddc87bdbaa0b273a129f06f3bf7a4f86fb4c7"
 },
 "nbformat": 3,
 "nbformat_minor": 0,
 "worksheets": [
  {
   "cells": [
    {
     "cell_type": "markdown",
     "metadata": {},
     "source": [
      "Isadora creates problems $\\sigma$"
     ]
    },
    {
     "cell_type": "code",
     "collapsed": false,
     "input": [],
     "language": "python",
     "metadata": {},
     "outputs": []
    }
   ],
   "metadata": {}
  }
 ]
}
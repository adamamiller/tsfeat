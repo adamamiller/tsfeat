{
 "metadata": {
  "name": "",
  "signature": "sha256:122b4ab0f4e74cd428c93f06986ad0a750f0b2bda0be0ad1d9f2503f35404e27"
 },
 "nbformat": 3,
 "nbformat_minor": 0,
 "worksheets": [
  {
   "cells": [
    {
     "cell_type": "code",
     "collapsed": false,
     "input": [
      "%matplotlib inline\n",
      "from Feature import FeatureSpace\n",
      "import numpy as np\n",
      "import matplotlib.pyplot as plt\n",
      "import seaborn as sns\n",
      "import statsmodels.graphics.tsaplots as tsaplots\n",
      "import pandas as pd\n",
      "from import_lightcurve import LeerLC_MACHO\n",
      "from alignLC import Align_LC\n",
      "from PreprocessLC import Preprocess_LC\n",
      "from create_table import Table"
     ],
     "language": "python",
     "metadata": {},
     "outputs": [],
     "prompt_number": 34
    },
    {
     "cell_type": "code",
     "collapsed": false,
     "input": [
      "%load_ext autoreload\n",
      "%autoreload 2\n",
      "\n",
      "from IPython.display import Image\n",
      "\n",
      "%reload_ext autoreload"
     ],
     "language": "python",
     "metadata": {},
     "outputs": [
      {
       "output_type": "stream",
       "stream": "stdout",
       "text": [
        "The autoreload extension is already loaded. To reload it, use:\n",
        "  %reload_ext autoreload\n"
       ]
      }
     ],
     "prompt_number": 35
    },
    {
     "cell_type": "code",
     "collapsed": false,
     "input": [
      "lc_B = LeerLC_MACHO('lc_58.6272.729.B.mjd')  #58.6272.729 1.3444.614 1.4652.1527\n",
      "lc_R = LeerLC_MACHO('lc_58.6272.729.R.mjd')\n",
      "\n",
      "[data, mjd, error] = lc_B.leerLC()\n",
      "[data2, mjd2, error2] = lc_R.leerLC()\n",
      "\n",
      "#We preprocess the data\n",
      "preproccesed_data = Preprocess_LC(data, mjd, error)\n",
      "[data, mjd, error] = preproccesed_data.Preprocess()\n",
      "\n",
      "preproccesed_data = Preprocess_LC(data2, mjd2, error2)\n",
      "[second_data, mjd2, error2] = preproccesed_data.Preprocess()\n",
      "\n",
      "#We synchronize the data\n",
      "if len(data) != len(second_data):\n",
      "    [aligned_data, aligned_second_data, aligned_mjd] = Align_LC(mjd, mjd2, data, second_data, error, error2)"
     ],
     "language": "python",
     "metadata": {},
     "outputs": [],
     "prompt_number": 47
    },
    {
     "cell_type": "code",
     "collapsed": false,
     "input": [
      "def Shuffle(data, error, mjd, second_data, aligned_data, aligned_second_data):\n",
      "\n",
      "    N = len(data)\n",
      "    shuffle = np.arange(0, N)\n",
      "    index = np.random.permutation(shuffle)\n",
      "    index = np.sort(index[0:N/2])\n",
      "    \n",
      "    data_test = data[index]\n",
      "    mjd_test = mjd[index]\n",
      "    error_test = error[index]\n",
      "\n",
      "    N2 = len(second_data)\n",
      "    shuffle2 = np.arange(0, N2)\n",
      "    index2 = np.random.permutation(shuffle2)\n",
      "    index2 = np.sort(index2[0:N2/2])\n",
      "\n",
      "    second_data_test = second_data[index2]\n",
      "\n",
      "    N3 = len(aligned_data)\n",
      "    shuffle3 = np.arange(0, N3)\n",
      "    index3 = np.random.permutation(shuffle3)\n",
      "    index3 = np.sort(index3[0:N3/2])\n",
      "\n",
      "    aligned_data_test = aligned_data[index3]\n",
      "    aligned_second_data_test = aligned_second_data[index3]\n",
      "    aligned_mjd_test = aligned_mjd[index3]\n",
      "    \n",
      "    return data_test, mjd_test, error_test, second_data_test, aligned_data_test, aligned_second_data_test, aligned_mjd_test"
     ],
     "language": "python",
     "metadata": {},
     "outputs": [],
     "prompt_number": 48
    },
    {
     "cell_type": "heading",
     "level": 3,
     "metadata": {},
     "source": [
      "Sampled light curve"
     ]
    },
    {
     "cell_type": "code",
     "collapsed": false,
     "input": [
      "features_value=[]\n",
      "for i in xrange(50):\n",
      "    [data_test, mjd_test, error_test, second_data_test, aligned_data_test, aligned_second_data_test, aligned_mjd_test] = Shuffle(data, error, mjd, second_data, aligned_data, aligned_second_data)\n",
      "    print i\n",
      "    a = FeatureSpace(category='all',featureList=None, Automean=[0,0], StetsonL=[aligned_second_data_test, aligned_data_test] ,  B_R=second_data_test, Beyond1Std=error_test, StetsonJ=[aligned_second_data_test, aligned_data_test], MaxSlope=mjd_test, LinearTrend=mjd_test, Eta_B_R=[aligned_second_data_test, aligned_data_test, aligned_mjd_test], Eta_e=mjd_test, Q31B_R=[aligned_second_data_test, aligned_data_test], PeriodLS=mjd_test, CAR_sigma=[mjd_test, error_test], SlottedA = mjd_test, Psi_CS = mjd)\n",
      "    a=a.calculateFeature(data_test)\n",
      "    features_value.append(a.result(method='array'))"
     ],
     "language": "python",
     "metadata": {},
     "outputs": [
      {
       "output_type": "stream",
       "stream": "stdout",
       "text": [
        "0\n",
        "1"
       ]
      },
      {
       "output_type": "stream",
       "stream": "stdout",
       "text": [
        "\n",
        "2"
       ]
      },
      {
       "output_type": "stream",
       "stream": "stdout",
       "text": [
        "\n",
        "3"
       ]
      },
      {
       "output_type": "stream",
       "stream": "stdout",
       "text": [
        "\n",
        "4"
       ]
      },
      {
       "output_type": "stream",
       "stream": "stdout",
       "text": [
        "\n",
        "5"
       ]
      },
      {
       "output_type": "stream",
       "stream": "stdout",
       "text": [
        "\n",
        "6"
       ]
      },
      {
       "output_type": "stream",
       "stream": "stdout",
       "text": [
        "\n",
        "7"
       ]
      },
      {
       "output_type": "stream",
       "stream": "stdout",
       "text": [
        "\n",
        "8"
       ]
      },
      {
       "output_type": "stream",
       "stream": "stdout",
       "text": [
        "\n",
        "9"
       ]
      },
      {
       "output_type": "stream",
       "stream": "stdout",
       "text": [
        "\n",
        "10"
       ]
      },
      {
       "output_type": "stream",
       "stream": "stdout",
       "text": [
        "\n",
        "11"
       ]
      },
      {
       "output_type": "stream",
       "stream": "stdout",
       "text": [
        "\n",
        "12"
       ]
      },
      {
       "output_type": "stream",
       "stream": "stdout",
       "text": [
        "\n",
        "13"
       ]
      },
      {
       "output_type": "stream",
       "stream": "stdout",
       "text": [
        "\n",
        "14"
       ]
      },
      {
       "output_type": "stream",
       "stream": "stdout",
       "text": [
        "\n",
        "15"
       ]
      },
      {
       "output_type": "stream",
       "stream": "stdout",
       "text": [
        "\n",
        "16"
       ]
      },
      {
       "output_type": "stream",
       "stream": "stdout",
       "text": [
        "\n",
        "17"
       ]
      },
      {
       "output_type": "stream",
       "stream": "stdout",
       "text": [
        "\n",
        "18"
       ]
      },
      {
       "output_type": "stream",
       "stream": "stdout",
       "text": [
        "\n",
        "19"
       ]
      },
      {
       "output_type": "stream",
       "stream": "stdout",
       "text": [
        "\n",
        "20"
       ]
      },
      {
       "output_type": "stream",
       "stream": "stdout",
       "text": [
        "\n",
        "21"
       ]
      },
      {
       "output_type": "stream",
       "stream": "stdout",
       "text": [
        "\n",
        "22"
       ]
      },
      {
       "output_type": "stream",
       "stream": "stdout",
       "text": [
        "\n",
        "23"
       ]
      },
      {
       "output_type": "stream",
       "stream": "stdout",
       "text": [
        "\n",
        "24"
       ]
      },
      {
       "output_type": "stream",
       "stream": "stdout",
       "text": [
        "\n",
        "25"
       ]
      },
      {
       "output_type": "stream",
       "stream": "stdout",
       "text": [
        "\n",
        "26"
       ]
      },
      {
       "output_type": "stream",
       "stream": "stdout",
       "text": [
        "\n",
        "27"
       ]
      },
      {
       "output_type": "stream",
       "stream": "stdout",
       "text": [
        "\n",
        "28"
       ]
      },
      {
       "output_type": "stream",
       "stream": "stdout",
       "text": [
        "\n",
        "29"
       ]
      },
      {
       "output_type": "stream",
       "stream": "stdout",
       "text": [
        "\n",
        "30"
       ]
      },
      {
       "output_type": "stream",
       "stream": "stdout",
       "text": [
        "\n",
        "31"
       ]
      },
      {
       "output_type": "stream",
       "stream": "stdout",
       "text": [
        "\n",
        "32"
       ]
      },
      {
       "output_type": "stream",
       "stream": "stdout",
       "text": [
        "\n",
        "33"
       ]
      },
      {
       "output_type": "stream",
       "stream": "stdout",
       "text": [
        "\n",
        "34"
       ]
      },
      {
       "output_type": "stream",
       "stream": "stdout",
       "text": [
        "\n",
        "35"
       ]
      },
      {
       "output_type": "stream",
       "stream": "stdout",
       "text": [
        "\n",
        "36"
       ]
      },
      {
       "output_type": "stream",
       "stream": "stdout",
       "text": [
        "\n",
        "37"
       ]
      },
      {
       "output_type": "stream",
       "stream": "stdout",
       "text": [
        "\n",
        "38"
       ]
      },
      {
       "output_type": "stream",
       "stream": "stdout",
       "text": [
        "\n",
        "39"
       ]
      },
      {
       "output_type": "stream",
       "stream": "stdout",
       "text": [
        "\n",
        "40"
       ]
      },
      {
       "output_type": "stream",
       "stream": "stdout",
       "text": [
        "\n",
        "41"
       ]
      },
      {
       "output_type": "stream",
       "stream": "stdout",
       "text": [
        "\n",
        "42"
       ]
      },
      {
       "output_type": "stream",
       "stream": "stdout",
       "text": [
        "\n",
        "43"
       ]
      },
      {
       "output_type": "stream",
       "stream": "stdout",
       "text": [
        "\n",
        "44"
       ]
      },
      {
       "output_type": "stream",
       "stream": "stdout",
       "text": [
        "\n",
        "45"
       ]
      },
      {
       "output_type": "stream",
       "stream": "stdout",
       "text": [
        "\n",
        "46"
       ]
      },
      {
       "output_type": "stream",
       "stream": "stdout",
       "text": [
        "\n",
        "47"
       ]
      },
      {
       "output_type": "stream",
       "stream": "stdout",
       "text": [
        "\n",
        "48"
       ]
      },
      {
       "output_type": "stream",
       "stream": "stdout",
       "text": [
        "\n",
        "49"
       ]
      },
      {
       "output_type": "stream",
       "stream": "stdout",
       "text": [
        "\n"
       ]
      }
     ],
     "prompt_number": 49
    },
    {
     "cell_type": "code",
     "collapsed": false,
     "input": [
      "features_value2 = np.asarray(features_value)\n",
      "means=[]\n",
      "stds=[]\n",
      "for i in xrange(len(a.result(method='features'))):\n",
      "    means.append(np.mean(features_value2[:,i]))\n",
      "    stds.append(np.std(features_value2[:,i]))"
     ],
     "language": "python",
     "metadata": {},
     "outputs": [],
     "prompt_number": 50
    },
    {
     "cell_type": "heading",
     "level": 3,
     "metadata": {},
     "source": [
      "Original light-curve"
     ]
    },
    {
     "cell_type": "code",
     "collapsed": false,
     "input": [
      "a2 = FeatureSpace(category='all',featureList=None, Automean=[0,0], StetsonL=[aligned_second_data, aligned_data] , B_R=second_data, Beyond1Std=error, StetsonJ=[aligned_second_data, aligned_data], MaxSlope=mjd, LinearTrend=mjd, Eta_B_R=[aligned_second_data, aligned_data, aligned_mjd], Eta_e=mjd, Q31B_R=[aligned_second_data, aligned_data], PeriodLS=mjd, CAR_sigma=[mjd, error], SlottedA = mjd, Psi_CS=mjd)\n",
      "a2 =a2.calculateFeature(data)\n",
      "\n",
      "Table(a2)"
     ],
     "language": "python",
     "metadata": {},
     "outputs": [
      {
       "html": [
        "<table border=\"1\" cellpadding=\"3\" cellspacing=\"0\"  style=\"border:1px solid black;border-collapse:collapse;\"><tr><td  style=\"background-color:LightGray;\"><b>Feature</b></td><td  style=\"background-color:LightGray;\"><b>Value</b></td></tr><tr><td  style=\"background-color:Ivory;\">Amplitude</td><td  style=\"background-color:Ivory;\">0.70500</td></tr><tr><td  style=\"background-color:AliceBlue;\">AndersonDarling</td><td  style=\"background-color:AliceBlue;\">1.00000</td></tr><tr><td  style=\"background-color:Ivory;\">Autocor</td><td  style=\"background-color:Ivory;\">24.00000</td></tr><tr><td  style=\"background-color:AliceBlue;\">Automean</td><td  style=\"background-color:AliceBlue;\">-4.19367</td></tr><tr><td  style=\"background-color:Ivory;\">B_R</td><td  style=\"background-color:Ivory;\">0.20397</td></tr><tr><td  style=\"background-color:AliceBlue;\">Beyond1Std</td><td  style=\"background-color:AliceBlue;\">0.25434</td></tr><tr><td  style=\"background-color:Ivory;\">Bmean</td><td  style=\"background-color:Ivory;\">-4.19367</td></tr><tr><td  style=\"background-color:AliceBlue;\">CAR_sigma</td><td  style=\"background-color:AliceBlue;\">0.01354</td></tr><tr><td  style=\"background-color:Ivory;\">CAR_tau</td><td  style=\"background-color:Ivory;\">1282.76117</td></tr><tr><td  style=\"background-color:AliceBlue;\">CAR_tmean</td><td  style=\"background-color:AliceBlue;\">-0.00327</td></tr><tr><td  style=\"background-color:Ivory;\">Con</td><td  style=\"background-color:Ivory;\">0.03198</td></tr><tr><td  style=\"background-color:AliceBlue;\">Eta_B_R</td><td  style=\"background-color:AliceBlue;\">67202.64628</td></tr><tr><td  style=\"background-color:Ivory;\">Eta_e</td><td  style=\"background-color:Ivory;\">764.39909</td></tr><tr><td  style=\"background-color:AliceBlue;\">FluxPercentileRatioMid20</td><td  style=\"background-color:AliceBlue;\">0.18995</td></tr><tr><td  style=\"background-color:Ivory;\">FluxPercentileRatioMid35</td><td  style=\"background-color:Ivory;\">0.30920</td></tr><tr><td  style=\"background-color:AliceBlue;\">FluxPercentileRatioMid50</td><td  style=\"background-color:AliceBlue;\">0.42845</td></tr><tr><td  style=\"background-color:Ivory;\">FluxPercentileRatioMid65</td><td  style=\"background-color:Ivory;\">0.55281</td></tr><tr><td  style=\"background-color:AliceBlue;\">FluxPercentileRatioMid80</td><td  style=\"background-color:AliceBlue;\">0.69080</td></tr><tr><td  style=\"background-color:Ivory;\">LinearTrend</td><td  style=\"background-color:Ivory;\">-0.00015</td></tr><tr><td  style=\"background-color:AliceBlue;\">MaxSlope</td><td  style=\"background-color:AliceBlue;\">22.80186</td></tr><tr><td  style=\"background-color:Ivory;\">Meanvariance</td><td  style=\"background-color:Ivory;\">-0.08538</td></tr><tr><td  style=\"background-color:AliceBlue;\">MedianAbsDev</td><td  style=\"background-color:AliceBlue;\">0.25500</td></tr><tr><td  style=\"background-color:Ivory;\">MedianBRP</td><td  style=\"background-color:Ivory;\">0.50289</td></tr><tr><td  style=\"background-color:AliceBlue;\">PairSlopeTrend</td><td  style=\"background-color:AliceBlue;\">0.23333</td></tr><tr><td  style=\"background-color:Ivory;\">PercentAmplitude</td><td  style=\"background-color:Ivory;\">-0.34058</td></tr><tr><td  style=\"background-color:AliceBlue;\">PercentDifferenceFluxPercentile</td><td  style=\"background-color:AliceBlue;\">-0.27757</td></tr><tr><td  style=\"background-color:Ivory;\">PeriodLS</td><td  style=\"background-color:Ivory;\">2544.98292</td></tr><tr><td  style=\"background-color:AliceBlue;\">Period_fit</td><td  style=\"background-color:AliceBlue;\">0.00000</td></tr><tr><td  style=\"background-color:Ivory;\">Psi_CS</td><td  style=\"background-color:Ivory;\">0.35335</td></tr><tr><td  style=\"background-color:AliceBlue;\">Psi_eta</td><td  style=\"background-color:AliceBlue;\">0.59690</td></tr><tr><td  style=\"background-color:Ivory;\">Q31</td><td  style=\"background-color:Ivory;\">0.50150</td></tr><tr><td  style=\"background-color:AliceBlue;\">Q31B_R</td><td  style=\"background-color:AliceBlue;\">0.17625</td></tr><tr><td  style=\"background-color:Ivory;\">Rcs</td><td  style=\"background-color:Ivory;\">0.35335</td></tr><tr><td  style=\"background-color:AliceBlue;\">Skew</td><td  style=\"background-color:AliceBlue;\">0.80443</td></tr><tr><td  style=\"background-color:Ivory;\">SlottedA</td><td  style=\"background-color:Ivory;\">140.00000</td></tr><tr><td  style=\"background-color:AliceBlue;\">SmallKurtosis</td><td  style=\"background-color:AliceBlue;\">1.05566</td></tr><tr><td  style=\"background-color:Ivory;\">Std</td><td  style=\"background-color:Ivory;\">0.35804</td></tr><tr><td  style=\"background-color:AliceBlue;\">StetsonJ</td><td  style=\"background-color:AliceBlue;\">0.59582</td></tr><tr><td  style=\"background-color:Ivory;\">StetsonK</td><td  style=\"background-color:Ivory;\">0.79736</td></tr><tr><td  style=\"background-color:AliceBlue;\">StetsonK_AC</td><td  style=\"background-color:AliceBlue;\">0.78120</td></tr><tr><td  style=\"background-color:Ivory;\">StetsonL</td><td  style=\"background-color:Ivory;\">0.30927</td></tr></table>"
       ],
       "metadata": {},
       "output_type": "pyout",
       "prompt_number": 51,
       "text": [
        "<ipy_table.IpyTable at 0x10c3fb090>"
       ]
      }
     ],
     "prompt_number": 51
    },
    {
     "cell_type": "heading",
     "level": 3,
     "metadata": {},
     "source": [
      "Percentage difference"
     ]
    },
    {
     "cell_type": "code",
     "collapsed": false,
     "input": [
      "b = np.divide(np.abs((means - a2.result(method='array'))), stds) \n",
      "from ipy_table import *\n",
      "\n",
      "FeaturesList = [('Feature','Value')]\n",
      "\n",
      "for i in xrange(len(b)):\n",
      "\n",
      "    FeaturesList.append((a.result(method= 'features')[i], b[i]))\n",
      "\n",
      "make_table(FeaturesList)\n",
      "apply_theme('basic')\n",
      "set_global_style(float_format='%0.3f')"
     ],
     "language": "python",
     "metadata": {},
     "outputs": [
      {
       "html": [
        "<table border=\"1\" cellpadding=\"3\" cellspacing=\"0\"  style=\"border:1px solid black;border-collapse:collapse;\"><tr><td  style=\"background-color:LightGray;\"><b>Feature</b></td><td  style=\"background-color:LightGray;\"><b>Value</b></td></tr><tr><td  style=\"background-color:Ivory;\">Amplitude</td><td  style=\"background-color:Ivory;\">0.301</td></tr><tr><td  style=\"background-color:AliceBlue;\">AndersonDarling</td><td  style=\"background-color:AliceBlue;\">0.304</td></tr><tr><td  style=\"background-color:Ivory;\">Autocor</td><td  style=\"background-color:Ivory;\">3.325</td></tr><tr><td  style=\"background-color:AliceBlue;\">Automean</td><td  style=\"background-color:AliceBlue;\">0.068</td></tr><tr><td  style=\"background-color:Ivory;\">B_R</td><td  style=\"background-color:Ivory;\">0.183</td></tr><tr><td  style=\"background-color:AliceBlue;\">Beyond1Std</td><td  style=\"background-color:AliceBlue;\">0.510</td></tr><tr><td  style=\"background-color:Ivory;\">Bmean</td><td  style=\"background-color:Ivory;\">0.068</td></tr><tr><td  style=\"background-color:AliceBlue;\">CAR_sigma</td><td  style=\"background-color:AliceBlue;\">0.194</td></tr><tr><td  style=\"background-color:Ivory;\">CAR_tau</td><td  style=\"background-color:Ivory;\">2.597</td></tr><tr><td  style=\"background-color:AliceBlue;\">CAR_tmean</td><td  style=\"background-color:AliceBlue;\">1.801</td></tr><tr><td  style=\"background-color:Ivory;\">Con</td><td  style=\"background-color:Ivory;\">0.127</td></tr><tr><td  style=\"background-color:AliceBlue;\">Eta_B_R</td><td  style=\"background-color:AliceBlue;\">0.132</td></tr><tr><td  style=\"background-color:Ivory;\">Eta_e</td><td  style=\"background-color:Ivory;\">0.381</td></tr><tr><td  style=\"background-color:AliceBlue;\">FluxPercentileRatioMid20</td><td  style=\"background-color:AliceBlue;\">0.193</td></tr><tr><td  style=\"background-color:Ivory;\">FluxPercentileRatioMid35</td><td  style=\"background-color:Ivory;\">0.139</td></tr><tr><td  style=\"background-color:AliceBlue;\">FluxPercentileRatioMid50</td><td  style=\"background-color:AliceBlue;\">0.001</td></tr><tr><td  style=\"background-color:Ivory;\">FluxPercentileRatioMid65</td><td  style=\"background-color:Ivory;\">0.134</td></tr><tr><td  style=\"background-color:AliceBlue;\">FluxPercentileRatioMid80</td><td  style=\"background-color:AliceBlue;\">0.170</td></tr><tr><td  style=\"background-color:Ivory;\">LinearTrend</td><td  style=\"background-color:Ivory;\">0.133</td></tr><tr><td  style=\"background-color:AliceBlue;\">MaxSlope</td><td  style=\"background-color:AliceBlue;\">1.508</td></tr><tr><td  style=\"background-color:Ivory;\">Meanvariance</td><td  style=\"background-color:Ivory;\">0.091</td></tr><tr><td  style=\"background-color:AliceBlue;\">MedianAbsDev</td><td  style=\"background-color:AliceBlue;\">0.549</td></tr><tr><td  style=\"background-color:Ivory;\">MedianBRP</td><td  style=\"background-color:Ivory;\">0.788</td></tr><tr><td  style=\"background-color:AliceBlue;\">PairSlopeTrend</td><td  style=\"background-color:AliceBlue;\">1.429</td></tr><tr><td  style=\"background-color:Ivory;\">PercentAmplitude</td><td  style=\"background-color:Ivory;\">0.843</td></tr><tr><td  style=\"background-color:AliceBlue;\">PercentDifferenceFluxPercentile</td><td  style=\"background-color:AliceBlue;\">0.094</td></tr><tr><td  style=\"background-color:Ivory;\">PeriodLS</td><td  style=\"background-color:Ivory;\">0.649</td></tr><tr><td  style=\"background-color:AliceBlue;\">Period_fit</td><td  style=\"background-color:AliceBlue;\">0.211</td></tr><tr><td  style=\"background-color:Ivory;\">Psi_CS</td><td  style=\"background-color:Ivory;\">0.269</td></tr><tr><td  style=\"background-color:AliceBlue;\">Psi_eta</td><td  style=\"background-color:AliceBlue;\">0.444</td></tr><tr><td  style=\"background-color:Ivory;\">Q31</td><td  style=\"background-color:Ivory;\">0.165</td></tr><tr><td  style=\"background-color:AliceBlue;\">Q31B_R</td><td  style=\"background-color:AliceBlue;\">0.189</td></tr><tr><td  style=\"background-color:Ivory;\">Rcs</td><td  style=\"background-color:Ivory;\">0.269</td></tr><tr><td  style=\"background-color:AliceBlue;\">Skew</td><td  style=\"background-color:AliceBlue;\">0.119</td></tr><tr><td  style=\"background-color:Ivory;\">SlottedA</td><td  style=\"background-color:Ivory;\">1.724</td></tr><tr><td  style=\"background-color:AliceBlue;\">SmallKurtosis</td><td  style=\"background-color:AliceBlue;\">0.109</td></tr><tr><td  style=\"background-color:Ivory;\">Std</td><td  style=\"background-color:Ivory;\">0.086</td></tr><tr><td  style=\"background-color:AliceBlue;\">StetsonJ</td><td  style=\"background-color:AliceBlue;\">0.394</td></tr><tr><td  style=\"background-color:Ivory;\">StetsonK</td><td  style=\"background-color:Ivory;\">0.251</td></tr><tr><td  style=\"background-color:AliceBlue;\">StetsonK_AC</td><td  style=\"background-color:AliceBlue;\">0.441</td></tr><tr><td  style=\"background-color:Ivory;\">StetsonL</td><td  style=\"background-color:Ivory;\">0.739</td></tr></table>"
       ],
       "metadata": {},
       "output_type": "pyout",
       "prompt_number": 52,
       "text": [
        "<ipy_table.IpyTable at 0x10c3fba10>"
       ]
      }
     ],
     "prompt_number": 52
    },
    {
     "cell_type": "code",
     "collapsed": false,
     "input": [
      "meansa=np.asarray(means)\n",
      "stdsa = np.asarray(stds)\n",
      "for i in xrange(len(a.result(method='features'))):\n",
      "    print  100*stdsa[i]/means[i], a2.result(method= 'features')[i]  #, meansa[i], stdsa[i]"
     ],
     "language": "python",
     "metadata": {},
     "outputs": [
      {
       "output_type": "stream",
       "stream": "stdout",
       "text": [
        "4.61786551169 Amplitude\n",
        "0.000230761740023 AndersonDarling\n",
        "23.3891161538 Autocor\n",
        "-0.564167195835 Automean\n",
        "15.8594979001 B_R\n",
        "8.55680181092 Beyond1Std\n",
        "-0.564167195835 Bmean\n",
        "66.6052873264 CAR_sigma\n",
        "17.1329811871 CAR_tau\n",
        "-18.2706930807 CAR_tmean\n",
        "34.2577185837 Con\n",
        "219.177294126 Eta_B_R\n",
        "141.450859103 Eta_e\n",
        "10.8564934689 FluxPercentileRatioMid20\n",
        "8.16559381151 FluxPercentileRatioMid35\n",
        "7.64895915608 FluxPercentileRatioMid50\n",
        "6.95052562944 FluxPercentileRatioMid65\n",
        "5.80232160508 FluxPercentileRatioMid80\n",
        "-27.037192667 LinearTrend\n",
        "112.422441343 MaxSlope\n",
        "-4.82732025799 Meanvariance\n",
        "6.80548525596 MedianAbsDev\n",
        "16.8155744048 MedianBRP\n",
        "97.7894153292 PairSlopeTrend\n",
        "-10.5417878364 PercentAmplitude\n",
        "-7.58619114353 PercentDifferenceFluxPercentile\n",
        "4.85790037378 PeriodLS\n",
        "474.672527527 Period_fit\n",
        "4.17115878194 Psi_CS\n",
        "27.9835074998 Psi_eta\n",
        "4.82761865964 Q31\n",
        "12.7899486498 Q31B_R\n",
        "4.17115878194 Rcs\n",
        "22.8253670484 Skew\n",
        "51.5006175446 SlottedA\n",
        "41.9317639706 SmallKurtosis\n",
        "4.48635976178 Std\n",
        "8.22883125393 StetsonJ\n",
        "1.6976563363 StetsonK\n",
        "2.9914937937 StetsonK_AC\n",
        "17.1497789048 StetsonL\n"
       ]
      }
     ],
     "prompt_number": 53
    },
    {
     "cell_type": "code",
     "collapsed": false,
     "input": [
      "print means[29], stds[29], a2.result(method='array')[29]"
     ],
     "language": "python",
     "metadata": {},
     "outputs": [
      {
       "output_type": "stream",
       "stream": "stdout",
       "text": [
        "0.631602342313 0.0579043124966 0.589102682941\n"
       ]
      }
     ],
     "prompt_number": 43
    },
    {
     "cell_type": "code",
     "collapsed": false,
     "input": [],
     "language": "python",
     "metadata": {},
     "outputs": []
    }
   ],
   "metadata": {}
  }
 ]
}